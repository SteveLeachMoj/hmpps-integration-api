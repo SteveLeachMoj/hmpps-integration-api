{
 "cells": [
  {
   "cell_type": "code",
   "execution_count": 1,
   "metadata": {},
   "outputs": [
    {
     "name": "stderr",
     "output_type": "stream",
     "text": [
      "/Users/luke.williams/git-repositories/hmpps-integration-api/.venv/lib/python3.9/site-packages/urllib3/__init__.py:34: NotOpenSSLWarning: urllib3 v2.0 only supports OpenSSL 1.1.1+, currently the 'ssl' module is compiled with 'LibreSSL 2.8.3'. See: https://github.com/urllib3/urllib3/issues/3020\n",
      "  warnings.warn(\n"
     ]
    }
   ],
   "source": [
    "from constants import common\n",
    "\n"
   ]
  },
  {
   "cell_type": "code",
   "execution_count": 2,
   "metadata": {},
   "outputs": [],
   "source": [
    "URL = 'https://api-dev.prison.service.justice.gov.uk/v3/api-docs'\n",
    "URLS = [\n",
    "#API Docs\n",
    "  \"https://manage-adjudications-api-dev.hmpps.service.justice.gov.uk/v3/api-docs\",\n",
    "  \"https://assess-risks-and-needs-dev.hmpps.service.justice.gov.uk/v3/api-docs\",\n",
    "  \"https://court-register-dev.hmpps.service.justice.gov.uk/v3/api-docs\",\n",
    "  \"https://raw.githubusercontent.com/ministryofjustice/curious-API/main/curious-api-specification.yaml\",\n",
    "  \"https://sign-in-dev.hmpps.service.justice.gov.uk/auth/v3/api-docs\",\n",
    "  \"https://keyworker-api-dev.prison.service.justice.gov.uk/v3/api-docs\",\n",
    "#Typo in URL? \"https://allocation-manager-staging.apps.live-1.cloud-platform.service.justice.gov.uk/api-docs/index.html\",\n",
    "#timeout  \"https://community-api.test.probation.service.justice.gov.uk/v3/api-docs/Community%20API\",\n",
    "#site can't be reached \"https://probation-offender-events-dev.hmpps.service.justice.gov.uk/swagger-ui.html\",\n",
    "  \"https://probation-offender-search-dev.hmpps.service.justice.gov.uk/v3/api-docs\",\n",
    "  \"https://api-dev.prison.service.justice.gov.uk/v3/api-docs\",\n",
    "  \"https://offender-events-dev.prison.service.justice.gov.uk/v3/api-docs\",\n",
    "  \"https://prisoner-offender-search-dev.prison.service.justice.gov.uk/v3/api-docs\",\n",
    "# Timeout  \"https://offender-dev.aks-dev-1.studio-hosting.service.justice.gov.uk/v3/api-docs\",\n",
    "  \"https://prison-register-dev.hmpps.service.justice.gov.uk/v3/api-docs\",\n",
    "  \"https://hmpps-allocations-dev.hmpps.service.justice.gov.uk/v3/api-docs\",\n",
    "# 403 forbidden, wrong url \"https://probation-teams-dev.prison.service.justice.gov.uk/swagger-ui/index.html\",\n",
    "  \"https://hmpps-interventions-service-dev.apps.live-1.cloud-platform.service.justice.gov.uk/v3/api-docs\",\n",
    "  \"https://restricted-patients-api-dev.hmpps.service.justice.gov.uk/v3/api-docs\",\n",
    "  \"https://hmpps-staff-lookup-service-dev.hmpps.service.justice.gov.uk/v3/api-docs\",\n",
    "# 503 unavailable, wrong url \"https://hmpps-tier-dev.hmpps.service.justice.gov.uk/swagger-ui.html\",\n",
    "  \"https://token-verification-api-dev.prison.service.justice.gov.uk/v3/api-docs\",\n",
    "# 503, wrong url \"https://hmpps-workload-dev.hmpps.service.justice.gov.uk/swagger-ui.html\"\n",
    "\n",
    "#Microservices\n",
    "  \"https://raw.githubusercontent.com/ministryofjustice/hmpps-complexity-of-need/main/Complexity%20Of%20Need%20API%20Specification.yaml\"\n",
    "]\n",
    "SEARCH_TERM = 'sentence'\n",
    "SCHEMA = ''"
   ]
  },
  {
   "cell_type": "code",
   "execution_count": 3,
   "metadata": {},
   "outputs": [],
   "source": [
    "def retrieve_schema(dictionary, schema_name, partial_match=True):\n",
    "    \"\"\"\n",
    "    TODO Documentation\n",
    "    Output the nested _name object for a particular _name from a dictionary response object\n",
    "\n",
    "        Parameters:\n",
    "\n",
    "        Returns:\n",
    "    \"\"\"\n",
    "    #TODO figure out a way of storing the collected data as a list or dataframe so this function can return an object of such data\n",
    "    #json_schemas = []\n",
    "    if dictionary == '{}':\n",
    "        print(\"Problem with dictionary object\")\n",
    "    else:\n",
    "    #Lazy error catching to skip\n",
    "        try:\n",
    "            for key in dictionary[\"components\"][\"schemas\"]:\n",
    "                if str.lower(key) == str.lower(schema_name): \n",
    "                    print(\"Returning \" + key + \" schema\")\n",
    "                    print(dictionary[\"components\"][\"schemas\"][schema_name], '\\n')\n",
    "                    #json_schemas.append(dictionary[\"components\"][\"schemas\"][schema_name])\n",
    "                elif partial_match==True and str.lower(schema_name) in str.lower(key):\n",
    "                    print(\"Returning \" + key + \" schema\")\n",
    "                    print(dictionary[\"components\"][\"schemas\"][key], '\\n')\n",
    "                    #json_schemas.append(dictionary[\"components\"][\"schemas\"][schema_name])\n",
    "        except KeyError as ke:\n",
    "            print(ke)\n",
    "            pass\n",
    "        except Exception as err:\n",
    "            print(f\"Unexpected {err=}, {type(err)=}\")\n",
    "            raise\n",
    "    #return json_schemas\n",
    "\n",
    "def findKeyword(dictionary, search_key):\n",
    "    \"\"\"\n",
    "    Search for the existence of a key word within a complicated dictionary response object\n",
    "\n",
    "        Parameters:\n",
    "\n",
    "        Returns:\n",
    "\n",
    "    \"\"\"\n",
    "    # searching the presence of each key in the dictionary\n",
    "    if search_key in dictionary:\n",
    "        return True\n",
    "    else:\n",
    "        # run a loop on all the keys in that level\n",
    "        for key in dictionary:\n",
    "            # check if the value of that key is a dictionary\n",
    "            if isinstance(dictionary[key], dict):\n",
    "                # recall the function to check for the searched key in the next level\n",
    "                if findKeyword(dictionary[key], search_key):\n",
    "                    return True\n",
    "            if isinstance(dictionary[key], list):\n",
    "                for element in dictionary[key]:\n",
    "                    if isinstance(element, dict) and findKeyword(element, search_key):\n",
    "                        return True\n",
    "    return False"
   ]
  },
  {
   "cell_type": "code",
   "execution_count": 4,
   "metadata": {},
   "outputs": [],
   "source": [
    "json_extract = common.extract_data(URL)"
   ]
  },
  {
   "cell_type": "code",
   "execution_count": 7,
   "metadata": {},
   "outputs": [
    {
     "data": {
      "text/plain": [
       "False"
      ]
     },
     "execution_count": 7,
     "metadata": {},
     "output_type": "execute_result"
    }
   ],
   "source": [
    "findKeyword(json_extract,\"Sentence\")"
   ]
  }
 ],
 "metadata": {
  "kernelspec": {
   "display_name": ".venv",
   "language": "python",
   "name": "python3"
  },
  "language_info": {
   "codemirror_mode": {
    "name": "ipython",
    "version": 3
   },
   "file_extension": ".py",
   "mimetype": "text/x-python",
   "name": "python",
   "nbconvert_exporter": "python",
   "pygments_lexer": "ipython3",
   "version": "3.9.6"
  },
  "orig_nbformat": 4
 },
 "nbformat": 4,
 "nbformat_minor": 2
}
